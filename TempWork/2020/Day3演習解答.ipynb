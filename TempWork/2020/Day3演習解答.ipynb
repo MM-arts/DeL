{
 "cells": [
  {
   "cell_type": "markdown",
   "metadata": {
    "colab_type": "text",
    "id": "aq14syfw6lhq"
   },
   "source": [
    "# 全人類がわかるディープラーニング Day3演習\n",
    "\n",
    "## 概要\n",
    "\n",
    "本演習では深層学習の基礎である多層パーセプトロンによる学習を穴埋め形式で実装します。なお、予め用意されたコードはそのまま使用し、指示された穴埋め部を編集してください。\n",
    "演習問題文は<font color=\"Red\">赤字</font>です。このファイルは必ず最後までコードをすべて実行し、「最後までコードが実行可能」・「学習結果の出力がある」・「学習が成功している」の３つを満たした状態で提出してください。\n",
    "\n",
    "また、乱数設定により実行結果が異なるため、<font color=\"Red\">コードを完成させたあと、必ずもう一度一番上のセルから順に最後まで実行して結果を確認してください。</font>\n",
    "\n",
    "所要時間：4~8時間"
   ]
  },
  {
   "cell_type": "markdown",
   "metadata": {
    "colab_type": "text",
    "id": "lVyQt7sK6lhr"
   },
   "source": [
    "## ライブラリのインポート\n",
    "\n",
    "必要なライブラリをインポートします。エラーになる場合は該当するものをインストールしてください。"
   ]
  },
  {
   "cell_type": "code",
   "execution_count": 2,
   "metadata": {
    "colab": {},
    "colab_type": "code",
    "id": "-AtSIAX06lhs"
   },
   "outputs": [],
   "source": [
    "import os\n",
    "import pickle\n",
    "import numpy as np\n",
    "import matplotlib.pyplot as plt\n",
    "from sklearn import datasets\n",
    "from sklearn.model_selection import train_test_split\n",
    "%matplotlib inline\n",
    "# 乱数シードを指定\n",
    "np.random.seed(seed=0)"
   ]
  },
  {
   "cell_type": "code",
   "execution_count": 3,
   "metadata": {
    "colab": {},
    "colab_type": "code",
    "id": "JEmv-wiO6lhu"
   },
   "outputs": [],
   "source": [
    "if os.path.exists('mnist_784'):\n",
    "    with open('mnist_784','rb') as f:\n",
    "        mnist = pickle.load(f)\n",
    "else:\n",
    "    mnist = datasets.fetch_openml('mnist_784')\n",
    "    with open('mnist_784', 'wb') as f:\n",
    "        pickle.dump(mnist, f)\n",
    "# 画像とラベルを取得\n",
    "X, T = mnist.data, mnist.target\n",
    "# 訓練データとテストデータに分割\n",
    "x_train, x_test, t_train, t_test = train_test_split(X, T, test_size=0.2)\n",
    "\n",
    "# ラベルデータをint型にし、one-hot-vectorに変換します\n",
    "t_train = np.eye(10)[t_train.astype(\"int\")]\n",
    "t_test = np.eye(10)[t_test.astype(\"int\")]"
   ]
  },
  {
   "cell_type": "markdown",
   "metadata": {
    "colab_type": "text",
    "id": "-gdllYMa6lhx"
   },
   "source": [
    "## データの説明\n",
    "\n",
    "mnist と呼ばれる手書き数字の認識問題である。\n",
    "\n",
    "データは 784 次元の配列となっています。"
   ]
  },
  {
   "cell_type": "code",
   "execution_count": 4,
   "metadata": {
    "colab": {
     "base_uri": "https://localhost:8080/",
     "height": 1000
    },
    "colab_type": "code",
    "executionInfo": {
     "elapsed": 3595,
     "status": "ok",
     "timestamp": 1571012670908,
     "user": {
      "displayName": "Takagi Shu",
      "photoUrl": "https://lh3.googleusercontent.com/a-/AAuE7mDM7sGsuoVc9EoGjnjwpITKYSfCPhxZD5cacY-_=s64",
      "userId": "15435836188812161004"
     },
     "user_tz": -540
    },
    "id": "5n1z1JLo6lhx",
    "outputId": "5afc46c9-9ff6-413c-a677-43df48705c53",
    "scrolled": true
   },
   "outputs": [
    {
     "data": {
      "image/png": "[encoded data removed]",
      "text/plain": [
       "<Figure size 432x288 with 1 Axes>"
      ]
     },
     "metadata": {
      "needs_background": "light"
     },
     "output_type": "display_data"
    },
    {
     "name": "stdout",
     "output_type": "stream",
     "text": [
      "label:  [0. 0. 0. 0. 1. 0. 0. 0. 0. 0.]\n"
     ]
    },
    {
     "data": {
      "image/png": "[encoded data removed]",
      "text/plain": [
       "<Figure size 432x288 with 1 Axes>"
      ]
     },
     "metadata": {
      "needs_background": "light"
     },
     "output_type": "display_data"
    },
    {
     "name": "stdout",
     "output_type": "stream",
     "text": [
      "label:  [0. 0. 0. 0. 0. 0. 0. 0. 0. 1.]\n"
     ]
    },
    {
     "data": {
      "image/png": "[encoded data removed]",
      "text/plain": [
       "<Figure size 432x288 with 1 Axes>"
      ]
     },
     "metadata": {
      "needs_background": "light"
     },
     "output_type": "display_data"
    },
    {
     "name": "stdout",
     "output_type": "stream",
     "text": [
      "label:  [0. 0. 0. 0. 0. 0. 1. 0. 0. 0.]\n"
     ]
    },
    {
     "data": {
      "image/png": "[encoded data removed]",
      "text/plain": [
       "<Figure size 432x288 with 1 Axes>"
      ]
     },
     "metadata": {
      "needs_background": "light"
     },
     "output_type": "display_data"
    },
    {
     "name": "stdout",
     "output_type": "stream",
     "text": [
      "label:  [0. 0. 0. 0. 0. 0. 0. 1. 0. 0.]\n"
     ]
    },
    {
     "data": {
      "image/png": "[encoded data removed]",
      "text/plain": [
       "<Figure size 432x288 with 1 Axes>"
      ]
     },
     "metadata": {
      "needs_background": "light"
     },
     "output_type": "display_data"
    },
    {
     "name": "stdout",
     "output_type": "stream",
     "text": [
      "label:  [0. 0. 0. 0. 0. 1. 0. 0. 0. 0.]\n"
     ]
    }
   ],
   "source": [
    "# データを5つ表示\n",
    "for i in range(5):\n",
    "    plt.gray()\n",
    "    plt.imshow(x_train[i].reshape((28,28)))\n",
    "    plt.show()\n",
    "    print(\"label: \", t_train[i])"
   ]
  },
  {
   "cell_type": "markdown",
   "metadata": {
    "colab_type": "text",
    "id": "EqEggozU6lh0"
   },
   "source": [
    "## Optimizer の実装"
   ]
  },
  {
   "cell_type": "markdown",
   "metadata": {
    "colab_type": "text",
    "id": "6bnloVrD6lh1"
   },
   "source": [
    "### 確率的勾配降下法\n",
    "\n",
    "1-1. <font color=\"Red\">確率的勾配降下法を用いたOptimizerのクラス SGD を完成させてください。</font>\n"
   ]
  },
  {
   "cell_type": "code",
   "execution_count": 5,
   "metadata": {
    "colab": {},
    "colab_type": "code",
    "id": "1PJym2in6lh2"
   },
   "outputs": [],
   "source": [
    "class SGD:\n",
    "\n",
    "    def __init__(self, lr=0.01):\n",
    "        self.lr = lr\n",
    "        \n",
    "    def update(self, params, grads):\n",
    "        for key in params.keys():\n",
    "            params[key] -= self.lr * grads[key] ###### 問1-1 ######"
   ]
  },
  {
   "cell_type": "markdown",
   "metadata": {
    "colab_type": "text",
    "id": "oVckjDco6lh4"
   },
   "source": [
    "### Adam\n",
    "\n",
    "1-2. <font color=\"Red\">Adamを用いたOptimizerのクラス Adam を完成させてください。</font><br>\n",
    "Adamの特徴としてハイパーパラメータのバイアス補正(偏りの補正)が行われることが挙げられます。書籍『ゼロから作るDeepLearning』の配布コードは簡易版のため、バイアス補正を組み込んでいません。この問題ではバイアス補正を組み込んだ完成形のAdamコードについて回答してください。また、過去のE資格試験ではこちらの完成形のAdamコードが出題されています。"
   ]
  },
  {
   "cell_type": "code",
   "execution_count": null,
   "metadata": {},
   "outputs": [],
   "source": [
    "class Adam:\n",
    "\n",
    "    def __init__(self, lr=0.001, beta1=0.9, beta2=0.999):\n",
    "        self.lr = lr\n",
    "        self.beta1 = beta1\n",
    "        self.beta2 = beta2\n",
    "        self.iter = 0\n",
    "        self.m = None\n",
    "        self.v = None\n",
    "        \n",
    "    def update(self, params, grads):\n",
    "        if self.m is None:\n",
    "            self.m, self.v = {}, {}\n",
    "            for key, val in params.items():\n",
    "                self.m[key] = np.zeros_like(val)\n",
    "                self.v[key] = np.zeros_like(val)\n",
    "        \n",
    "        self.iter += 1\n",
    "        \n",
    "        for key in params.keys():\n",
    "            self.m[key] = self.beta1 * self.m[key] + (1 - self.beta1) * grads[key]###### 問1-2-1 ######\n",
    "            self.v[key] = self.beta2 * self.v[key] + (1 - self.beta2) * grads[key]**2###### 問1-2-2 ######\n",
    "            m_unbias = self.m[key] / (1-self.beta1 ** self.iter)###### 問1-2-3 ######\n",
    "            v_unbias = self.v[key] / (1-self.beta2 ** self.iter)###### 問1-2-4 ######\n",
    "            params[key] -= self.lr * m_unbias / (np.sqrt(v_unbias) + 1e-7)\n",
    "\n",
    "\"\"\"\n",
    "以下、ゼロから作るDeepLearningに記載されているコードです。\n",
    "class Adam:\n",
    "\n",
    "    def __init__(self, lr=0.001, beta1=0.9, beta2=0.999):\n",
    "        self.lr = lr\n",
    "        self.beta1 = beta1\n",
    "        self.beta2 = beta2\n",
    "        self.iter = 0\n",
    "        self.m = None\n",
    "        self.v = None\n",
    "        \n",
    "    def update(self, params, grads):\n",
    "        if self.m is None:\n",
    "            self.m, self.v = {}, {}\n",
    "            for key, val in params.items():\n",
    "                self.m[key] = np.zeros_like(val)\n",
    "                self.v[key] = np.zeros_like(val)\n",
    "        \n",
    "        self.iter += 1\n",
    "        lr_t  = self.lr * np.sqrt(1.0 - self.beta2**self.iter) / (1.0 - self.beta1**self.iter)         \n",
    "        \n",
    "        for key in params.keys():\n",
    "            #self.m[key] = self.beta1*self.m[key] + (1-self.beta1)*grads[key]\n",
    "            #self.v[key] = self.beta2*self.v[key] + (1-self.beta2)*(grads[key]**2)\n",
    "            self.m[key] += (1 - self.beta1) * (grads[key] - self.m[key])###### 問1-2-1 ######\n",
    "            self.v[key] += (1 - self.beta2) * (grads[key]**2 - self.v[key])###### 問1-2-2 ######\n",
    "            \n",
    "            params[key] -= lr_t * self.m[key] / (np.sqrt(self.v[key]) + 1e-7)###### 問1-2-3 ######\n",
    "            \n",
    "            #unbias_m += (1 - self.beta1) * (grads[key] - self.m[key]) # correct bias\n",
    "            #unbisa_b += (1 - self.beta2) * (grads[key]*grads[key] - self.v[key]) # correct bias\n",
    "            #params[key] += self.lr * unbias_m / (np.sqrt(unbisa_b) + 1e-7)\n",
    "\"\"\""
   ]
  },
  {
   "cell_type": "markdown",
   "metadata": {
    "colab_type": "text",
    "id": "yzfyBi516lh7"
   },
   "source": [
    "## コスト関数\n",
    "\n",
    "多クラス分類問題なので、クロスエントロピーをコスト関数して用います。"
   ]
  },
  {
   "cell_type": "code",
   "execution_count": 0,
   "metadata": {
    "colab": {},
    "colab_type": "code",
    "id": "cAlzQGhx6lh8"
   },
   "outputs": [],
   "source": [
    "def cross_entropy_error(y, t):\n",
    "    if y.ndim == 1:\n",
    "        t = t.reshape(1, t.size)\n",
    "        y = y.reshape(1, y.size)\n",
    "    if t.size == y.size:\n",
    "        t = t.argmax(axis=1)\n",
    "    batch_size = y.shape[0]\n",
    "    return -np.sum(np.log(y[np.arange(batch_size), t] + 1e-7)) / batch_size\n"
   ]
  },
  {
   "cell_type": "code",
   "execution_count": 0,
   "metadata": {
    "colab": {},
    "colab_type": "code",
    "id": "UbyckMZH6liE"
   },
   "outputs": [],
   "source": [
    "def softmax(x):\n",
    "    x = x.T\n",
    "    _x = x - np.max(x, axis=0)\n",
    "    _x = np.exp(_x) / np.sum(np.exp(_x), axis=0)\n",
    "    return _x.T"
   ]
  },
  {
   "cell_type": "markdown",
   "metadata": {
    "colab_type": "text",
    "id": "NUb4X1Cx6liG"
   },
   "source": [
    "## ネットワークの実装\n",
    "\n",
    "まずはバッチ正規化を入れない普通の三層ニューラルネットワークを実装します。問題にはなっていませんが、day1の復習も兼ねてコードを読み理解しておいてください。"
   ]
  },
  {
   "cell_type": "code",
   "execution_count": 0,
   "metadata": {
    "colab": {},
    "colab_type": "code",
    "id": "rff7ty-b6liG"
   },
   "outputs": [],
   "source": [
    "class mnistMultiLayerNet:\n",
    "    \"\"\"\n",
    "    layer0: 784 次元の入力\n",
    "    ↓ w1, b1 で線形結合\n",
    "    ↓ relu で活性化\n",
    "    layer1: 100 次元の隠れ層\n",
    "    ↓ w2, b2 で線形結合\n",
    "    ↓ relu で活性化\n",
    "    layer2: 100 次元の隠れ層\n",
    "    ↓ w3, b3 で線形結合\n",
    "    ↓ relu で活性化\n",
    "    layer3: 100 次元の隠れ層\n",
    "    ↓ w4, b4 で線形結合\n",
    "    ↓ relu で活性化\n",
    "    layer4: 100 次元の隠れ層\n",
    "    ↓ w5, b5 で線形結合\n",
    "    layer5: 10 次元の出力層\n",
    "    \"\"\"\n",
    "    def __init__(self):\n",
    "        self.input_size = 784\n",
    "        self.output_size = 10\n",
    "        self.hidden_size_list = [100, 100, 100, 100]\n",
    "        self.all_size_list = [self.input_size] + self.hidden_size_list + [self.output_size]\n",
    "        self.hidden_layer_num = len(self.hidden_size_list)\n",
    "        self.weight_decay_lambda =0\n",
    "        self.params = {}\n",
    "        self.layers = {}\n",
    "        self.grads = {}\n",
    "\n",
    "        # 重みとバイアスの初期化\n",
    "        for idx in range(1, len(self.all_size_list)):\n",
    "            self.params['w' + str(idx)] = np.random.randn(self.all_size_list[idx-1], self.all_size_list[idx]) * 0.085\n",
    "            self.params['b' + str(idx)] = np.zeros(self.all_size_list[idx], dtype=float)\n",
    "\n",
    "        \n",
    "    def forward(self, x):\n",
    "        relu = lambda x : np.maximum(0, x)  # 活性化関数として ReLU を使用\n",
    "        self.layers['layer0'] = x\n",
    "        for idx in range(1, len(self.all_size_list) - 1):\n",
    "            w = self.params['w' + str(idx)]\n",
    "            b = self.params['b' + str(idx)]\n",
    "            x = self.layers['layer' + str(idx - 1)]\n",
    "            self.layers['layer' + str(idx)] = relu(np.dot(x, w) + b)\n",
    "        idx = len(self.all_size_list) - 1\n",
    "        w = self.params['w' + str(idx)]\n",
    "        b = self.params['b' + str(idx)]\n",
    "        x = self.layers['layer' + str(idx - 1)]\n",
    "        self.layers['layer' + str(idx)] = softmax(np.dot(x, w) + b)\n",
    "        \n",
    "        return self.layers['layer' + str(idx)]\n",
    "        \n",
    "\n",
    "    def loss(self, y, t):\n",
    "        return cross_entropy_error(y, t)\n",
    "    \n",
    "    def backward(self, t, y):\n",
    "        delta = (y - t) / t.shape[0]\n",
    "        self.grads['b5'] = np.sum(delta, axis=0)\n",
    "        self.grads['w5'] = np.dot(self.layers['layer4'].transpose(), delta)\n",
    "        # 誤差逆伝播\n",
    "        for idx in range(4, 0, -1):\n",
    "            delta = np.dot(delta, self.params['w' + str(idx + 1)].transpose())\n",
    "            delta = delta *  (self.layers['layer' + str(idx)] > 0)\n",
    "            self.grads['b' + str(idx)] = np.sum(delta, axis=0)\n",
    "            self.grads['w' + str(idx)] = np.dot(self.layers['layer'+str(idx - 1)].transpose(), delta)\n",
    "        return self.grads\n"
   ]
  },
  {
   "cell_type": "markdown",
   "metadata": {
    "colab_type": "text",
    "id": "NYvv1lCK6liJ"
   },
   "source": [
    "## バッチ正規化を用いるネットワーク\n",
    "\n",
    "各層について、重みを掛けて足し合わせた後バッチ正規化を行う。\n",
    "\n",
    "2. <font color=\"Red\">バッチ正規化を用いたニューラルネットワークを完成させてください。</font>\n",
    "\n",
    "  バッチ正規化の順伝播は以下の式に従って実装します。\n",
    "  \n",
    "  - （訓練時のみ）まずは計算しているミニバッチについて、平均と分散を求めます。各次元について、全データを通じた平均・分散を計算するため、平均・分散を計算する軸にご注意ください。\n",
    "\n",
    "  - （訓練時のみ）テスト時に使用するために、訓練データ全体での平均を推定します。モーメンタム $m$ を用いて今までの平均 $\\mu_{old} $ を計算しているミニバッチの平均 $\\mu$ の方向に移動させ、新しい平均$\\mu_{new} $を求めます。\n",
    "  $$\n",
    "  \\mu_{new} = m \\mu_{old} + ( 1 - m)\\mu\\tag{1}\n",
    "  $$\n",
    "\n",
    "  - （訓練時のみ）同様に今までの分散 $\\sigma_{old} ^ 2$ を計算しているミニバッチの平均 $\\sigma^2$の方向に移動させ、 新しい分散$\\sigma_{new}^2$ を求めます。\n",
    "  $$\n",
    "  \\sigma_{new}^2 = m \\sigma_{old}^2 + ( 1 - m)\\sigma^2\\tag{2}\n",
    "  $$\n",
    "\n",
    "  - 求めた平均 $\\mu$ と分散 $\\sigma^2$ を用いて、入力 $x$ を正規化した値 $x_n$ を求めます。分散$\\sigma^2$から標準偏差 $\\sigma$ を求めるときに、アンダーフローを避けるために 10e-7 ($10 \\times 10 ^ {-7}$) を足してから平方根を取っています。\n",
    "  テスト時には、移動平均により推定した訓練データ全体での平均・分散を使用します。\n",
    "  $$\n",
    "  \\sigma = \\sqrt{\\sigma ^ 2 + 10 \\times 10 ^ {-7}}\\tag{3}\n",
    "  $$\n",
    "  $$\n",
    "  x_n = (x - \\mu) / \\sigma\\tag{4}\n",
    "  $$\n",
    "\n",
    "   - 正規化した値 $x_n$に対して $\\gamma$ を用いて変倍し、$\\beta$ を用いて移動を行い、活性化関数に渡す出力 $y$ を求めます。\n",
    "   $$\n",
    "   y = \\gamma x_n + \\beta\\tag{5}\n",
    "   $$\n",
    " \n",
    "   バッチ正規化の誤差逆伝播は以下の式に従って実装します。\n",
    "   \n",
    "   - 直前まで逆伝播してきた$1, 2, \\dots , N$ 番目(Nはバッチサイズ)の出力データ$y_k$による勾配 $\\frac{\\partial L}{\\partial y_k}$を用いて $\\gamma$ と$\\beta$による勾配を計算します。 $x_{nk}$ はミニバッチの中のk番目の入力データを正規化した後の値を表します。\n",
    "   $$\n",
    "   \\begin{eqnarray} \n",
    "   \\frac{\\partial L}{\\partial \\gamma} & = & \\sum_{k=1}^{N} \\frac{\\partial L}{\\partial y_k} \\frac{\\partial y_k}{\\partial \\gamma} = \\sum_{k=1}^{N} \\frac{\\partial L}{\\partial y_k} x_{nk}\\tag{6}\\\\\n",
    "\\frac{\\partial L}{\\partial \\beta} & = & \\sum_{k=1}^{N} \\frac{\\partial L}{\\partial y_k} \\frac{\\partial y_k}{\\partial \\beta} =  \\sum_{k=1}^{N} \\frac{\\partial L}{\\partial y_k}\\tag{7}\n",
    "\\end{eqnarray}\n",
    "   $$\n",
    "   \n",
    "   - $1, 2, \\dots , N$ 番目の入力データ$x_k$による勾配 $\\frac{\\partial L}{\\partial x_k}$を計算します（コードでは高速化のため少々異なった計算をしています）。\n",
    "   \n",
    "   $$\n",
    "  \\begin{equation} \n",
    "  \\frac{\\partial L}{\\partial x_k} \n",
    "  = \\frac{\\gamma}{\\sigma} \\Bigg[ \\frac{\\partial L}{\\partial y_k} \n",
    "  - \\frac{1}{N} \\bigg[ \\frac{\\partial L}{\\partial \\beta} + x_{nk} \\frac{\\partial L}{\\partial \\gamma} \\bigg] \\Bigg] \n",
    "  \\end{equation}\n",
    "  $$"
   ]
  },
  {
   "cell_type": "code",
   "execution_count": 1,
   "metadata": {
    "colab": {},
    "colab_type": "code",
    "id": "L7PK-TCA6liJ"
   },
   "outputs": [],
   "source": [
    "class mnistMultiLayerBatchNet:\n",
    "    \"\"\"\n",
    "    layer0: 784 次元の入力\n",
    "    ↓ w1, b1 で線形結合\n",
    "    ↓バッチ正規化 gamma1倍しbeta1だけずらす\n",
    "    ↓ relu で活性化\n",
    "    layer1: 100 次元の隠れ層\n",
    "    ↓ w2, b2 で線形結合\n",
    "    ↓バッチ正規化 gamma2倍しbeta2だけずらす\n",
    "    ↓ relu で活性化\n",
    "    layer2: 100 次元の隠れ層\n",
    "    ↓ w3, b3 で線形結合\n",
    "    ↓バッチ正規化 gamma3倍しbeta3だけずらす\n",
    "    ↓ relu で活性化\n",
    "    layer3: 100 次元の隠れ層\n",
    "    ↓ w4, b4 で線形結合\n",
    "    ↓バッチ正規化 gamma4倍しbeta4だけずらす\n",
    "    ↓ relu で活性化\n",
    "    layer4: 100 次元の隠れ層\n",
    "    ↓ w5, b5 で線形結合\n",
    "    layer5: 10 次元の出力層\n",
    "    \"\"\"\n",
    "    def __init__(self):\n",
    "        self.input_size = 784\n",
    "        self.output_size = 10\n",
    "        self.hidden_size_list = [100, 100, 100, 100]\n",
    "        self.all_size_list = [self.input_size] + self.hidden_size_list + [self.output_size]\n",
    "        self.hidden_layer_num = len(self.hidden_size_list)\n",
    "        self.weight_decay_lambda =0\n",
    "        self.params = {}\n",
    "        self.layers = {}\n",
    "        self.grads = {}\n",
    "        self.norms = {}\n",
    "        self.momentum = 0.9\n",
    "\n",
    "        # パラメータの初期化\n",
    "        for idx in range(1, len(self.all_size_list)):\n",
    "            # 線形結合層のパラメータ\n",
    "            self.params['w' + str(idx)] = np.random.randn(self.all_size_list[idx-1], self.all_size_list[idx]) * 0.085\n",
    "            self.params['b' + str(idx)] = np.zeros(self.all_size_list[idx], dtype=float)\n",
    "            \n",
    "            # バッチ正規化でシフトさせるときに用いるγとβを更新するパラメータとし初期化\n",
    "            # mu と sigma は実行時の平均と分散\n",
    "            if idx != len(self.all_size_list) - 1:\n",
    "                self.params['gamma' + str(idx)] = np.ones(self.all_size_list[idx])\n",
    "                self.params['beta' + str(idx)] = np.zeros(self.all_size_list[idx])\n",
    "                self.norms['mu' + str(idx)] = None\n",
    "                self.norms['var' + str(idx)] = None\n",
    "        \n",
    "    def forward(self, x, train_flg=False):\n",
    "        relu = lambda x : np.maximum(0, x)  # 活性化関数として ReLU を使用\n",
    "        self.layers['layer0'] = x\n",
    "        for idx in range(1, len(self.all_size_list) - 1):\n",
    "            # 線形結合層\n",
    "            w = self.params['w' + str(idx)]\n",
    "            b = self.params['b' + str(idx)]\n",
    "            x = self.layers['layer' + str(idx - 1)]\n",
    "            x = np.dot(x, w) + b\n",
    "            \n",
    "            # バッチ正規化\n",
    "            # 平均と分散の初期化\n",
    "            if self.norms['mu' + str(idx)] is None:\n",
    "                N, D = x.shape\n",
    "                self.norms['mu' + str(idx)] = np.zeros(D)\n",
    "                self.norms['var' + str(idx)] = np.zeros(D)\n",
    "            if train_flg:\n",
    "                mu = x.mean(axis=0)           # 今回のミニバッチの平均###### 問2.1 ###### \n",
    "                xc = x - mu                   # 今回のミニバッチの平均との差分\n",
    "                var = np.mean(xc**2, axis=0)  # 今回のミニバッチの分散###### 問2.2 ###### \n",
    "                std = np.sqrt(var + 10e-7)    # 今回のミニバッチの標準偏差\n",
    "                xn = xc / std                 # 正規化\n",
    "\n",
    "                # 全体の平均と分散を移動平均により求める(1),(2)\n",
    "                self.norms['mu' + str(idx)] = self.momentum * self.norms['mu' + str(idx)] + (1-self.momentum) * mu###### 問2.3 ######\n",
    "                self.norms['var' + str(idx)] = self.momentum * self.norms['var' + str(idx)] + (1-self.momentum) * var###### 問2.4 ######\n",
    "                \n",
    "                # 誤差逆伝播で使う中間データ\n",
    "                self.norms['xc' + str(idx)] = xc\n",
    "                self.norms['xn' + str(idx)] = xn\n",
    "                self.norms['std' + str(idx)] = std\n",
    "                self.norms['size' + str(idx)] = x.shape[0]\n",
    "            else:\n",
    "                # テスト時は全体の平均と分散を使って正規化する(3),(4)\n",
    "                xc = x - self.norms['mu' + str(idx)]###### 問2.5 ######\n",
    "                xn = xc / ((np.sqrt(self.norms['var' + str(idx)] + 10e-7)))###### 問2.6 ######\n",
    "                \n",
    "            # バッチ正規化でシフトさせる(5)\n",
    "            shifted = self.params['gamma' + str(idx)] * xn + self.params['beta' + str(idx)]###### 問2.7 ######\n",
    "            \n",
    "            # relu を使って活性化\n",
    "            self.layers['layer' + str(idx)] = relu(shifted)\n",
    "\n",
    "        # 出力層\n",
    "        idx = len(self.all_size_list) - 1\n",
    "        w = self.params['w' + str(idx)]\n",
    "        b = self.params['b' + str(idx)]\n",
    "        x = self.layers['layer' + str(idx - 1)]\n",
    "        self.layers['layer' + str(idx)] = softmax(np.dot(x, w) + b)\n",
    "        \n",
    "        return self.layers['layer' + str(idx)]\n",
    "        \n",
    "\n",
    "    def loss(self, y, t):\n",
    "        return cross_entropy_error(y, t)\n",
    "    \n",
    "    def backward(self, t, y):\n",
    "        # 出力層における誤差の勾配（クロスエントロピー関数の勾配）\n",
    "        delta = (y - t) / t.shape[0]\n",
    "        \n",
    "        # 出力層手前の線形結合層における勾配の逆伝播\n",
    "        self.grads['b5'] = np.sum(delta, axis=0)\n",
    "        self.grads['w5'] = np.dot(self.layers['layer4'].transpose(), delta)\n",
    "        \n",
    "        # 誤差逆伝播\n",
    "        for idx in range(4, 0, -1):\n",
    "            delta = np.dot(delta, self.params['w' + str(idx + 1)].transpose())\n",
    "            \n",
    "            # relu の微分\n",
    "            delta = delta *  (self.layers['layer' + str(idx)] > 0)\n",
    "            \n",
    "            # バッチ正規化における勾配の逆伝播(6),(7)\n",
    "            self.grads['beta' + str(idx)] = delta.sum(axis=0)###### 問2.8 ######\n",
    "            self.grads['gamma' + str(idx)] = np.sum(self.norms['xn' + str(idx)] * delta, axis=0)###### 問2.9 ######\n",
    "            dxn = self.params['gamma' + str(idx)] * delta\n",
    "            dxc = dxn / self.norms['std' + str(idx)]\n",
    "            dstd = -np.sum((dxn * self.norms['xc' + str(idx)]) / (self.norms['std' + str(idx)] * self.norms['std' + str(idx)]), axis=0)\n",
    "            dvar = 0.5 * dstd / self.norms['std' + str(idx)]\n",
    "            dxc += (2.0 / self.norms['size' + str(idx)]) * self.norms['xc' + str(idx)] * dvar\n",
    "            dmu = np.sum(dxc, axis=0)\n",
    "            delta = dxc - dmu / self.norms['size' + str(idx)]\n",
    "            \n",
    "            # 線形結合層における勾配の逆伝播\n",
    "            self.grads['b' + str(idx)] = np.sum(delta, axis=0)\n",
    "            self.grads['w' + str(idx)] = np.dot(self.layers['layer'+str(idx - 1)].transpose(), delta)\n",
    "            \n",
    "        return self.grads\n"
   ]
  },
  {
   "cell_type": "markdown",
   "metadata": {
    "colab_type": "text",
    "id": "zWkm5W_c6liL"
   },
   "source": [
    "## ミニバッチを用いた学習\n",
    "\n",
    "3. <font color=\"Red\">ミニバッチサイズ128に分割して学習させるように以下のプログラムを完成させてください。</font>\n",
    " - xとtの対応を保ったままシャッフルさせたのち、バッチサイズ分だけデータを取り出します。\n",
    " - ヒント: numpy.random.permutation を用いることで、データのインデックスをシャッフルした配列を用意することで、シャッフルインデックス配列permに対して、前からバッチサイズずつインデックスを切り出せばミニバッチの抽出が行えます。\n",
    " - また、学習用のコードは実行に時間がかかります。完了するまで5~10分ほどを要しますのでご注意ください。"
   ]
  },
  {
   "cell_type": "code",
   "execution_count": 0,
   "metadata": {
    "colab": {},
    "colab_type": "code",
    "id": "Kb_QIhlH6liM"
   },
   "outputs": [],
   "source": [
    "bn = mnistMultiLayerBatchNet()\n",
    "nobn = mnistMultiLayerNet()\n",
    "adambn = mnistMultiLayerBatchNet()\n",
    "adamnobn = mnistMultiLayerNet()\n",
    "\n",
    "bn_acc_list = []\n",
    "nobn_acc_list = []\n",
    "adambn_acc_list = []\n",
    "adamnobn_acc_list = []\n",
    "\n",
    "sgd = SGD(lr = 0.01)\n",
    "adam = Adam(lr=0.01)\n",
    "\n",
    "# ミニバッチアルゴリズム\n",
    "batch_size = 128"
   ]
  },
  {
   "cell_type": "code",
   "execution_count": 0,
   "metadata": {
    "colab": {
     "base_uri": "https://localhost:8080/",
     "height": 377
    },
    "colab_type": "code",
    "executionInfo": {
     "elapsed": 288175,
     "status": "ok",
     "timestamp": 1571012955571,
     "user": {
      "displayName": "Takagi Shu",
      "photoUrl": "https://lh3.googleusercontent.com/a-/AAuE7mDM7sGsuoVc9EoGjnjwpITKYSfCPhxZD5cacY-_=s64",
      "userId": "15435836188812161004"
     },
     "user_tz": -540
    },
    "id": "5QxuI9bd6liP",
    "outputId": "3830af03-3153-4eb0-f158-4d5c128b81cb",
    "scrolled": true
   },
   "outputs": [
    {
     "name": "stdout",
     "output_type": "stream",
     "text": [
      "EPOCH 1 | NoBatch ACCURACY (SGD) 84.92% | Batch ACCURACY (SGD)84.83% | NoBatch ACCURACY (Adam)92.09% | Batch ACCURACY (Adam) 94.61%\n",
      "EPOCH 2 | NoBatch ACCURACY (SGD) 89.63% | Batch ACCURACY (SGD)89.61% | NoBatch ACCURACY (Adam)93.97% | Batch ACCURACY (Adam) 95.37%\n",
      "EPOCH 3 | NoBatch ACCURACY (SGD) 91.01% | Batch ACCURACY (SGD)91.44% | NoBatch ACCURACY (Adam)94.43% | Batch ACCURACY (Adam) 96.06%\n",
      "EPOCH 4 | NoBatch ACCURACY (SGD) 92.16% | Batch ACCURACY (SGD)92.63% | NoBatch ACCURACY (Adam)94.39% | Batch ACCURACY (Adam) 96.33%\n",
      "EPOCH 5 | NoBatch ACCURACY (SGD) 92.55% | Batch ACCURACY (SGD)93.35% | NoBatch ACCURACY (Adam)93.49% | Batch ACCURACY (Adam) 95.97%\n",
      "EPOCH 6 | NoBatch ACCURACY (SGD) 93.41% | Batch ACCURACY (SGD)94.03% | NoBatch ACCURACY (Adam)93.21% | Batch ACCURACY (Adam) 96.21%\n",
      "EPOCH 7 | NoBatch ACCURACY (SGD) 93.66% | Batch ACCURACY (SGD)94.26% | NoBatch ACCURACY (Adam)93.78% | Batch ACCURACY (Adam) 96.70%\n",
      "EPOCH 8 | NoBatch ACCURACY (SGD) 93.76% | Batch ACCURACY (SGD)94.59% | NoBatch ACCURACY (Adam)94.25% | Batch ACCURACY (Adam) 96.97%\n",
      "EPOCH 9 | NoBatch ACCURACY (SGD) 93.34% | Batch ACCURACY (SGD)94.81% | NoBatch ACCURACY (Adam)90.05% | Batch ACCURACY (Adam) 96.91%\n",
      "EPOCH 10 | NoBatch ACCURACY (SGD) 94.19% | Batch ACCURACY (SGD)95.21% | NoBatch ACCURACY (Adam)88.46% | Batch ACCURACY (Adam) 96.94%\n",
      "EPOCH 11 | NoBatch ACCURACY (SGD) 94.45% | Batch ACCURACY (SGD)95.24% | NoBatch ACCURACY (Adam)89.79% | Batch ACCURACY (Adam) 96.90%\n",
      "EPOCH 12 | NoBatch ACCURACY (SGD) 94.13% | Batch ACCURACY (SGD)95.38% | NoBatch ACCURACY (Adam)88.19% | Batch ACCURACY (Adam) 97.18%\n",
      "EPOCH 13 | NoBatch ACCURACY (SGD) 94.75% | Batch ACCURACY (SGD)95.60% | NoBatch ACCURACY (Adam)94.59% | Batch ACCURACY (Adam) 97.31%\n",
      "EPOCH 14 | NoBatch ACCURACY (SGD) 94.66% | Batch ACCURACY (SGD)95.69% | NoBatch ACCURACY (Adam)94.14% | Batch ACCURACY (Adam) 97.34%\n",
      "EPOCH 15 | NoBatch ACCURACY (SGD) 94.83% | Batch ACCURACY (SGD)95.82% | NoBatch ACCURACY (Adam)83.86% | Batch ACCURACY (Adam) 97.37%\n",
      "EPOCH 16 | NoBatch ACCURACY (SGD) 94.34% | Batch ACCURACY (SGD)95.92% | NoBatch ACCURACY (Adam)91.98% | Batch ACCURACY (Adam) 97.34%\n",
      "EPOCH 17 | NoBatch ACCURACY (SGD) 95.04% | Batch ACCURACY (SGD)96.04% | NoBatch ACCURACY (Adam)93.05% | Batch ACCURACY (Adam) 97.31%\n",
      "EPOCH 18 | NoBatch ACCURACY (SGD) 94.93% | Batch ACCURACY (SGD)95.99% | NoBatch ACCURACY (Adam)63.79% | Batch ACCURACY (Adam) 97.64%\n",
      "EPOCH 19 | NoBatch ACCURACY (SGD) 95.09% | Batch ACCURACY (SGD)96.12% | NoBatch ACCURACY (Adam)67.20% | Batch ACCURACY (Adam) 97.36%\n",
      "EPOCH 20 | NoBatch ACCURACY (SGD) 95.18% | Batch ACCURACY (SGD)96.24% | NoBatch ACCURACY (Adam)58.07% | Batch ACCURACY (Adam) 97.68%\n"
     ]
    }
   ],
   "source": [
    "for epoch in range(20):\n",
    "    # ランダムにミニバッチへ分割するために、インデックスをランダムに並び替える\n",
    "    perm = np.random.permutation(len(x_train))###### 問3.1 ######\n",
    "    # batch_size ごとにデータを読み込んで学習させる\n",
    "    for idx in np.arange(0, len(perm), batch_size):###### 問3.2 ######:\n",
    "        x = x_train[perm[idx:idx+batch_size]] ###### 問3.3 ######\n",
    "        t =  t_train[perm[idx:idx+batch_size]]###### 問3.4 ######\n",
    "        \n",
    "        y = bn.forward(x, train_flg=True)\n",
    "        grads = bn.backward(t, y)\n",
    "        sgd.update(bn.params,grads)\n",
    "        \n",
    "        y = adambn.forward(x, train_flg=True)\n",
    "        grads = adambn.backward(t, y)\n",
    "        adam.update(adambn.params,grads)\n",
    "        \n",
    "        y = nobn.forward(x)\n",
    "        grads = nobn.backward(t,y)\n",
    "        sgd.update(nobn.params, grads)\n",
    "        \n",
    "        y = adamnobn.forward(x)\n",
    "        grads = adamnobn.backward(t, y)\n",
    "        adam.update(adamnobn.params,grads)\n",
    "\n",
    "    y_test = bn.forward(x_test)\n",
    "    bn_acc_list.append((y_test.argmax(axis=1) == t_test.argmax(axis=1)).mean())\n",
    "    y_test = nobn.forward(x_test)\n",
    "    nobn_acc_list.append((y_test.argmax(axis=1) == t_test.argmax(axis=1)).mean())\n",
    "    y_test = adambn.forward(x_test)\n",
    "    adambn_acc_list.append((y_test.argmax(axis=1) == t_test.argmax(axis=1)).mean())\n",
    "    y_test = adamnobn.forward(x_test)\n",
    "    adamnobn_acc_list.append((y_test.argmax(axis=1) == t_test.argmax(axis=1)).mean())\n",
    "\n",
    "    print(f'EPOCH {epoch + 1} | NoBatch ACCURACY (SGD) {nobn_acc_list[-1]:.2%} | Batch ACCURACY (SGD){bn_acc_list[-1]:.2%} | NoBatch ACCURACY (Adam){adamnobn_acc_list[-1]:.2%} | Batch ACCURACY (Adam) {adambn_acc_list[-1]:.2%}')"
   ]
  },
  {
   "attachments": {},
   "cell_type": "markdown",
   "metadata": {
    "colab_type": "text",
    "id": "mXZ3ANFT6liR"
   },
   "source": [
    "## 学習結果\n",
    "学習結果を可視化してみます。まずはSGDを使った学習についてのみ比較を行います。結果のグラフが以下のグラフと一致していれば学習は成功しています。\n",
    "<img src=\"sgd.png\">\n",
    "\n",
    "学習結果からわかる通り、バッチ正規化を加えることでテスト精度が高い水準で安定させることが可能となります。"
   ]
  },
  {
   "cell_type": "code",
   "execution_count": 0,
   "metadata": {
    "colab": {
     "base_uri": "https://localhost:8080/",
     "height": 283
    },
    "colab_type": "code",
    "executionInfo": {
     "elapsed": 288166,
     "status": "ok",
     "timestamp": 1571012955572,
     "user": {
      "displayName": "Takagi Shu",
      "photoUrl": "https://lh3.googleusercontent.com/a-/AAuE7mDM7sGsuoVc9EoGjnjwpITKYSfCPhxZD5cacY-_=s64",
      "userId": "15435836188812161004"
     },
     "user_tz": -540
    },
    "id": "uH_hzBCh6liS",
    "outputId": "c7fe4861-525d-47de-d22e-3d9502621db1",
    "scrolled": false
   },
   "outputs": [
    {
     "data": {
      "image/png": "[encoded data removed]",
      "text/plain": [
       "<Figure size 432x288 with 1 Axes>"
      ]
     },
     "metadata": {
      "tags": []
     },
     "output_type": "display_data"
    }
   ],
   "source": [
    "x = range(20)\n",
    "plt.plot(x, bn_acc_list, color='turquoise')\n",
    "plt.plot(x, nobn_acc_list, color='tomato')\n",
    "\n",
    "plt.legend(['BatchNormalization', 'Normal Network'])\n",
    "plt.xlabel('epoch')\n",
    "plt.ylabel('accuracy')\n",
    "plt.show()"
   ]
  },
  {
   "attachments": {},
   "cell_type": "markdown",
   "metadata": {
    "colab_type": "text",
    "id": "wt-DtxxE6liU"
   },
   "source": [
    "次にAdamで学習した場合も含めてプロットしてみましょう。結果のグラフの特徴が以下と一致していれば学習成功です。<br>\n",
    "・Adamで学習すると、SGDよりも学習が進みやすく、高い精度が実現できている。<br>\n",
    "・バッチ正規化を加えないネットワークでは過学習により途中からテスト精度が急に低下している。<br>\n",
    "バッチ正規化を加えることで正則化の役割も可能となっていることが読み取れます。\n",
    "<img src=\"adam.png\">"
   ]
  },
  {
   "cell_type": "code",
   "execution_count": 0,
   "metadata": {
    "colab": {
     "base_uri": "https://localhost:8080/",
     "height": 283
    },
    "colab_type": "code",
    "executionInfo": {
     "elapsed": 288691,
     "status": "ok",
     "timestamp": 1571012956108,
     "user": {
      "displayName": "Takagi Shu",
      "photoUrl": "https://lh3.googleusercontent.com/a-/AAuE7mDM7sGsuoVc9EoGjnjwpITKYSfCPhxZD5cacY-_=s64",
      "userId": "15435836188812161004"
     },
     "user_tz": -540
    },
    "id": "YppXUgjY6liV",
    "outputId": "21157932-a16d-4c1c-dca7-b21f3d45ae5d"
   },
   "outputs": [
    {
     "data": {
      "image/png": "[encoded data removed]",
      "text/plain": [
       "<Figure size 432x288 with 1 Axes>"
      ]
     },
     "metadata": {
      "tags": []
     },
     "output_type": "display_data"
    }
   ],
   "source": [
    "x = range(20)\n",
    "plt.plot(x, bn_acc_list, color='turquoise', linestyle = '-')\n",
    "plt.plot(x, nobn_acc_list, color='tomato', linestyle='-')\n",
    "plt.plot(x, adambn_acc_list, color='turquoise', linestyle = '--')\n",
    "plt.plot(x, adamnobn_acc_list, color='tomato', linestyle='--')\n",
    "\n",
    "plt.ylim((0.85, 1))\n",
    "\n",
    "plt.legend(['BatchNormalization(SGD)', 'Normal Network(SGD)', 'BatchNormalization(Adam)', 'Normal Network(Adam)'])\n",
    "plt.xlabel('epoch')\n",
    "plt.ylabel('accuracy')\n",
    "plt.show()"
   ]
  }
 ],
 "metadata": {
  "accelerator": "GPU",
  "colab": {
   "collapsed_sections": [],
   "name": "Day3演習解答.ipynb",
   "provenance": []
  },
  "kernelspec": {
   "display_name": "Python 3",
   "language": "python",
   "name": "python3"
  },
  "language_info": {
   "codemirror_mode": {
    "name": "ipython",
    "version": 3
   },
   "file_extension": ".py",
   "mimetype": "text/x-python",
   "name": "python",
   "nbconvert_exporter": "python",
   "pygments_lexer": "ipython3",
   "version": "3.7.6"
  },
  "latex_envs": {
   "LaTeX_envs_menu_present": true,
   "autoclose": false,
   "autocomplete": true,
   "bibliofile": "biblio.bib",
   "cite_by": "apalike",
   "current_citInitial": 1,
   "eqLabelWithNumbers": true,
   "eqNumInitial": 1,
   "hotkeys": {
    "equation": "Ctrl-E",
    "itemize": "Ctrl-I"
   },
   "labels_anchors": false,
   "latex_user_defs": false,
   "report_style_numbering": false,
   "user_envs_cfg": false
  }
 },
 "nbformat": 4,
 "nbformat_minor": 1
}
