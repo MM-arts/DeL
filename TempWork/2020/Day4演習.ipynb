{
 "cells": [
  {
   "cell_type": "markdown",
   "metadata": {},
   "source": [
    "# 全人類がわかるディープラーニング Day4演習\n",
    "\n",
    "## 概要\n",
    "\n",
    "本演習では深層学習の基礎である多層パーセプトロンによる学習を穴埋め形式で実装します。なお、予め用意されたコードはそのまま使用し、指示された穴埋め部を編集してください。\n",
    "演習問題文は<font color=\"Red\">赤字</font>です。このファイルは必ず最後までコードをすべて実行し、「最後までコードが実行可能」・「学習結果の出力がある」・「学習が成功している」の３つを満たした状態で提出してください。\n",
    "\n",
    "また、乱数設定により実行結果が異なるため、<font color=\"Red\">コードを完成させたあと、必ずもう一度一番上のセルから順に最後まで実行して結果を確認してください。</font>\n",
    "\n",
    "所要時間：2~4時間"
   ]
  },
  {
   "cell_type": "markdown",
   "metadata": {},
   "source": [
    "## ライブラリのインポート\n",
    "\n",
    "必要なライブラリをインポートします。エラーになる場合は該当するものをインストールしてください。"
   ]
  },
  {
   "cell_type": "code",
   "execution_count": null,
   "metadata": {},
   "outputs": [],
   "source": [
    "import os\n",
    "import pickle\n",
    "import numpy as np\n",
    "import matplotlib.pyplot as plt\n",
    "from collections import OrderedDict\n",
    "from sklearn import datasets\n",
    "from sklearn.model_selection import train_test_split\n",
    "%matplotlib inline\n",
    "# 乱数シードを指定\n",
    "np.random.seed(seed=0)"
   ]
  },
  {
   "cell_type": "code",
   "execution_count": null,
   "metadata": {},
   "outputs": [],
   "source": [
    "if os.path.exists('mnist_784'):\n",
    "    with open('mnist_784','rb') as f:\n",
    "        mnist = pickle.load(f)\n",
    "else:\n",
    "    mnist = datasets.fetch_openml('mnist_784')\n",
    "    with open('mnist_784', 'wb') as f:\n",
    "        pickle.dump(mnist, f)\n",
    "# 画像とラベルを取得\n",
    "X, T = mnist.data, mnist.target\n",
    "# 訓練データとテストデータに分割\n",
    "x_train, x_test, t_train, t_test = train_test_split(X, T, test_size=0.2)\n",
    "x_train = x_train.reshape(-1,1,28,28)\n",
    "x_test = x_test.reshape(-1,1,28,28)\n",
    "# ラベルデータをint型にし、one-hot-vectorに変換します\n",
    "t_train = np.eye(10)[t_train.astype(\"int\")]\n",
    "t_test = np.eye(10)[t_test.astype(\"int\")]"
   ]
  },
  {
   "cell_type": "markdown",
   "metadata": {},
   "source": [
    "## データの説明\n",
    "\n",
    "mnist と呼ばれる手書き数字の認識問題です。\n",
    "\n",
    "データは 1チャンネル 28×28 の配列となっています。"
   ]
  },
  {
   "cell_type": "code",
   "execution_count": null,
   "metadata": {
    "scrolled": true
   },
   "outputs": [],
   "source": [
    "# データを5つ表示\n",
    "for i in range(5):\n",
    "    plt.gray()\n",
    "    plt.imshow(x_train[i][0])\n",
    "    plt.show()\n",
    "    print(\"label: \", t_train[i])"
   ]
  },
  {
   "cell_type": "markdown",
   "metadata": {},
   "source": [
    "### Affine 変換層とコスト関数\n",
    "Affine 変換層とコスト関数の実装になります。問題にはなっていませんが、復習も兼ねて読み返してください。"
   ]
  },
  {
   "cell_type": "code",
   "execution_count": null,
   "metadata": {},
   "outputs": [],
   "source": [
    "def softmax(x):\n",
    "    if x.ndim == 2:\n",
    "        x = x.T\n",
    "        x = x - np.max(x, axis=0)\n",
    "        y = np.exp(x) / np.sum(np.exp(x), axis=0)\n",
    "        return y.T \n",
    "\n",
    "    x = x - np.max(x) # オーバーフロー対策\n",
    "    return np.exp(x) / np.sum(np.exp(x))\n",
    "\n",
    "def cross_entropy_error(y, t):\n",
    "    if y.ndim == 1:\n",
    "        t = t.reshape(1, t.size)\n",
    "        y = y.reshape(1, y.size)\n",
    "        \n",
    "    # 教師データがone-hot-vectorの場合、正解ラベルのインデックスに変換\n",
    "    if t.size == y.size:\n",
    "        t = t.argmax(axis=1)\n",
    "             \n",
    "    batch_size = y.shape[0]\n",
    "    return -np.sum(np.log(y[np.arange(batch_size), t] + 1e-7)) / batch_size"
   ]
  },
  {
   "cell_type": "code",
   "execution_count": null,
   "metadata": {},
   "outputs": [],
   "source": [
    "class Relu:\n",
    "    def __init__(self):\n",
    "        self.mask = None\n",
    "\n",
    "    def forward(self, x):\n",
    "        self.mask = (x <= 0)\n",
    "        out = x.copy()\n",
    "        out[self.mask] = 0\n",
    "\n",
    "        return out\n",
    "\n",
    "    def backward(self, dout):\n",
    "        dout[self.mask] = 0\n",
    "        dx = dout\n",
    "\n",
    "        return dx\n",
    "\n",
    "class Affine:\n",
    "    def __init__(self, input_size, output_size):\n",
    "        self.W = 0.01 * np.random.randn(input_size, output_size)\n",
    "        self.b = np.zeros(output_size)\n",
    "        \n",
    "        self.x = None\n",
    "        self.original_x_shape = None\n",
    "        # 重み・バイアスパラメータの微分\n",
    "        self.dW = None\n",
    "        self.db = None\n",
    "\n",
    "    def forward(self, x):\n",
    "        # テンソル対応\n",
    "        self.original_x_shape = x.shape\n",
    "        x = x.reshape(x.shape[0], -1)\n",
    "        self.x = x\n",
    "\n",
    "        out = np.dot(self.x, self.W) + self.b\n",
    "\n",
    "        return out\n",
    "\n",
    "    def backward(self, dout):\n",
    "        dx = np.dot(dout, self.W.T)\n",
    "        self.dW = np.dot(self.x.T, dout)\n",
    "        self.db = np.sum(dout, axis=0)\n",
    "        \n",
    "        dx = dx.reshape(*self.original_x_shape)  # 入力データの形状に戻す（テンソル対応）\n",
    "        return dx\n",
    "\n",
    "class SoftmaxWithLoss:\n",
    "    def __init__(self):\n",
    "        self.loss = None\n",
    "        self.y = None # softmaxの出力\n",
    "        self.t = None # 教師データ\n",
    "\n",
    "    def forward(self, x, t):\n",
    "        self.t = t\n",
    "        self.y = softmax(x)\n",
    "        self.loss = cross_entropy_error(self.y, self.t)\n",
    "        \n",
    "        return self.loss\n",
    "\n",
    "    def backward(self, dout=1):\n",
    "        batch_size = self.t.shape[0]\n",
    "        if self.t.size == self.y.size: # 教師データがone-hot-vectorの場合\n",
    "            dx = (self.y - self.t) / batch_size\n",
    "        else:\n",
    "            dx = self.y.copy()\n",
    "            dx[np.arange(batch_size), self.t] -= 1\n",
    "            dx = dx / batch_size\n",
    "        \n",
    "        return dx"
   ]
  },
  {
   "cell_type": "markdown",
   "metadata": {},
   "source": [
    "## im2col, col2im\n",
    "画像データに対する畳み込みなどの演算を行列積として実装するため、四次元配列である画像を二次元配列へと変換する関数`im2col`、逆伝播用の逆変換`col2im`を実装します。\n",
    "\n",
    "1. <font color=\"Red\">画像データを二次元配列へと変換する関数`im2col`を完成させてください。</font>\n",
    "\n",
    "  `im2col`は以下の要請に従って実装します。\n",
    "  \n",
    "  - 入力は四次元配列であり、(データ数N, チャンネル数C, 高さH, 幅W) の形となっています。\n",
    "  \n",
    "  - 入力画像を`im2col`で行列へと変換した後、カーネルを行列へと変換したものと行列積によって畳み込み演算が可能になるように実装します。\n",
    "  \n",
    "  - パディングの処理も`im2col`内で行います。np.padを使用します。np.pad の第二引数はタプルのリストとなっており、`[(x1, x2), (x3, x4)]` のとき、第一引数の第0次元の上にx1個の0を、下にx2個の0を、第1次元の上にx3個の0を、下にx4個の0を追加します。\n"
   ]
  },
  {
   "cell_type": "code",
   "execution_count": null,
   "metadata": {},
   "outputs": [],
   "source": [
    "dummy_img = np.arange(9).reshape(1,1,3,3)\n",
    "dummy_img"
   ]
  },
  {
   "cell_type": "markdown",
   "metadata": {},
   "source": [
    "例えば上のようなデータ数1、チャンネル数1、3×3サイズの dummy_img があった場合、これに対して2×2のカーネルを適用すると"
   ]
  },
  {
   "cell_type": "code",
   "execution_count": null,
   "metadata": {},
   "outputs": [],
   "source": [
    "np.array([[0., 1., 3., 4.],\n",
    "       [1., 2., 4., 5.],\n",
    "       [3., 4., 6., 7.],\n",
    "       [4., 5., 7., 8.]])"
   ]
  },
  {
   "cell_type": "markdown",
   "metadata": {},
   "source": [
    "のように、カーネルと掛け合わせる入力数値が行ベクトルとして並ぶように変換を行います。"
   ]
  },
  {
   "cell_type": "code",
   "execution_count": null,
   "metadata": {},
   "outputs": [],
   "source": [
    "def im2col(input_data, filter_h, filter_w, stride=1, pad=0):\n",
    "    N, C, H, W = input_data.shape\n",
    "    \n",
    "    # カーネルを適用した際、出力の画像サイズがどうなるかを計算\n",
    "    out_h = #### 問1-1 ####\n",
    "    out_w = #### 問1-2 ####\n",
    "\n",
    "    \n",
    "    img = np.pad(input_data, #### 問1-3 #### , 'constant') \n",
    "    col = np.zeros((N, C, filter_h, filter_w, out_h, out_w))\n",
    "\n",
    "    for y in range(filter_h):\n",
    "        y_max = y + stride*out_h\n",
    "        for x in range(filter_w):\n",
    "            x_max = x + stride*out_w\n",
    "            col[:, :, y, x, :, :] = img[#### 問1-4 #### ]\n",
    "\n",
    "    col = col.transpose(0, 4, 5, 1, 2, 3).reshape(N*out_h*out_w, -1)\n",
    "    return col"
   ]
  },
  {
   "cell_type": "markdown",
   "metadata": {},
   "source": [
    "### 確認用セル\n",
    "以下のセルを実行して`im2col`の実装が正しいか確認してください。"
   ]
  },
  {
   "cell_type": "code",
   "execution_count": null,
   "metadata": {},
   "outputs": [],
   "source": [
    "dummy_imgs = np.arange(135).reshape(5,3,3,3)\n",
    "dummy_kernels = np.arange(48).reshape(4,3,2,2)\n",
    "dummy_conv = np.dot(im2col(dummy_imgs, 2,2, pad=1), dummy_kernels.reshape(4,12).T)"
   ]
  },
  {
   "cell_type": "code",
   "execution_count": null,
   "metadata": {
    "scrolled": true
   },
   "outputs": [],
   "source": [
    "ans = np.array([[  261.,   585.,   909.,  1233.],\n",
    "       [  516.,  1200.,  1884.,  2568.],\n",
    "       [  555.,  1311.,  2067.,  2823.],\n",
    "       [  270.,   666.,  1062.,  1458.],\n",
    "       [  531.,  1287.,  2043.,  2799.],\n",
    "       [ 1035.,  2619.,  4203.,  5787.],\n",
    "       [ 1101.,  2829.,  4557.,  6285.],\n",
    "       [  528.,  1428.,  2328.,  3228.],\n",
    "       [  639.,  1611.,  2583.,  3555.],\n",
    "       [ 1233.,  3249.,  5265.,  7281.],\n",
    "       [ 1299.,  3459.,  5619.,  7779.],\n",
    "       [  618.,  1734.,  2850.,  3966.],\n",
    "       [  297.,   837.,  1377.,  1917.],\n",
    "       [  564.,  1680.,  2796.,  3912.],\n",
    "       [  591.,  1779.,  2967.,  4155.],\n",
    "       [  276.,   888.,  1500.,  2112.],\n",
    "       [  828.,  2124.,  3420.,  4716.],\n",
    "       [ 1569.,  4197.,  6825.,  9453.],\n",
    "       [ 1608.,  4308.,  7008.,  9708.],\n",
    "       [  756.,  2124.,  3492.,  4860.],\n",
    "       [ 1503.,  4203.,  6903.,  9603.],\n",
    "       [ 2817.,  8289., 13761., 19233.],\n",
    "       [ 2883.,  8499., 14115., 19731.],\n",
    "       [ 1338.,  4182.,  7026.,  9870.],\n",
    "       [ 1611.,  4527.,  7443., 10359.],\n",
    "       [ 3015.,  8919., 14823., 20727.],\n",
    "       [ 3081.,  9129., 15177., 21225.],\n",
    "       [ 1428.,  4488.,  7548., 10608.],\n",
    "       [  702.,  2214.,  3726.,  5238.],\n",
    "       [ 1293.,  4353.,  7413., 10473.],\n",
    "       [ 1320.,  4452.,  7584., 10716.],\n",
    "       [  600.,  2184.,  3768.,  5352.],\n",
    "       [ 1395.,  3663.,  5931.,  8199.],\n",
    "       [ 2622.,  7194., 11766., 16338.],\n",
    "       [ 2661.,  7305., 11949., 16593.],\n",
    "       [ 1242.,  3582.,  5922.,  8262.],\n",
    "       [ 2475.,  7119., 11763., 16407.],\n",
    "       [ 4599., 13959., 23319., 32679.],\n",
    "       [ 4665., 14169., 23673., 33177.],\n",
    "       [ 2148.,  6936., 11724., 16512.],\n",
    "       [ 2583.,  7443., 12303., 17163.],\n",
    "       [ 4797., 14589., 24381., 34173.],\n",
    "       [ 4863., 14799., 24735., 34671.],\n",
    "       [ 2238.,  7242., 12246., 17250.],\n",
    "       [ 1107.,  3591.,  6075.,  8559.],\n",
    "       [ 2022.,  7026., 12030., 17034.],\n",
    "       [ 2049.,  7125., 12201., 17277.],\n",
    "       [  924.,  3480.,  6036.,  8592.],\n",
    "       [ 1962.,  5202.,  8442., 11682.],\n",
    "       [ 3675., 10191., 16707., 23223.],\n",
    "       [ 3714., 10302., 16890., 23478.],\n",
    "       [ 1728.,  5040.,  8352., 11664.],\n",
    "       [ 3447., 10035., 16623., 23211.],\n",
    "       [ 6381., 19629., 32877., 46125.],\n",
    "       [ 6447., 19839., 33231., 46623.],\n",
    "       [ 2958.,  9690., 16422., 23154.],\n",
    "       [ 3555., 10359., 17163., 23967.],\n",
    "       [ 6579., 20259., 33939., 47619.],\n",
    "       [ 6645., 20469., 34293., 48117.],\n",
    "       [ 3048.,  9996., 16944., 23892.],\n",
    "       [ 1512.,  4968.,  8424., 11880.],\n",
    "       [ 2751.,  9699., 16647., 23595.],\n",
    "       [ 2778.,  9798., 16818., 23838.],\n",
    "       [ 1248.,  4776.,  8304., 11832.],\n",
    "       [ 2529.,  6741., 10953., 15165.],\n",
    "       [ 4728., 13188., 21648., 30108.],\n",
    "       [ 4767., 13299., 21831., 30363.],\n",
    "       [ 2214.,  6498., 10782., 15066.],\n",
    "       [ 4419., 12951., 21483., 30015.],\n",
    "       [ 8163., 25299., 42435., 59571.],\n",
    "       [ 8229., 25509., 42789., 60069.],\n",
    "       [ 3768., 12444., 21120., 29796.],\n",
    "       [ 4527., 13275., 22023., 30771.],\n",
    "       [ 8361., 25929., 43497., 61065.],\n",
    "       [ 8427., 26139., 43851., 61563.],\n",
    "       [ 3858., 12750., 21642., 30534.],\n",
    "       [ 1917.,  6345., 10773., 15201.],\n",
    "       [ 3480., 12372., 21264., 30156.],\n",
    "       [ 3507., 12471., 21435., 30399.],\n",
    "       [ 1572.,  6072., 10572., 15072.]])\n",
    "\n",
    "if (dummy_conv == ans).all():\n",
    "    print(\"im2col の実装に問題はありません。先に進んでください。\")\n",
    "else:\n",
    "    print(\"im2col の実装に問題があります。解き直してください。\")"
   ]
  },
  {
   "cell_type": "markdown",
   "metadata": {},
   "source": [
    "2. <font color=\"Red\">二次元配列での勾配を四次元配列の画像データでの勾配へと変換する関数`col2im`を完成させてください。</font>\n",
    "\n",
    " - `col2im` の実装問題は、問1の解答と同じコードで問題ありません。"
   ]
  },
  {
   "cell_type": "code",
   "execution_count": null,
   "metadata": {},
   "outputs": [],
   "source": [
    "def col2im(col, input_shape, filter_h, filter_w, stride=1, pad=0):\n",
    "\n",
    "    N, C, H, W = input_shape\n",
    "    out_h = #### 問2-1 (問1-1 と同じ) ####\n",
    "    out_w = #### 問2-2 (問1-2 と同じ) ####\n",
    "    col = col.reshape(N, out_h, out_w, C, filter_h, filter_w).transpose(0, 3, 4, 5, 1, 2)\n",
    "\n",
    "    img = np.zeros((N, C, H + 2*pad + stride - 1, W + 2*pad + stride - 1))\n",
    "    for y in range(filter_h):\n",
    "        y_max = y + stride*out_h\n",
    "        for x in range(filter_w):\n",
    "            x_max = x + stride*out_w\n",
    "            img[#### 問2-3 (問1-4 と同じ) ####] += col[:, :, y, x, :, :]\n",
    "\n",
    "    return img[:, :, pad:H + pad, pad:W + pad]"
   ]
  },
  {
   "cell_type": "markdown",
   "metadata": {},
   "source": [
    "## Convolution\n",
    "3. <font color=\"Red\">作成した`im2col`, `col2im`を使用し、畳み込み層 `convolution` を完成させてください。</font>"
   ]
  },
  {
   "cell_type": "code",
   "execution_count": null,
   "metadata": {},
   "outputs": [],
   "source": [
    "class Convolution:\n",
    "    def __init__(self, input_channel, output_channel, kernel_h=5, kernel_w=5, stride=1, pad=0):\n",
    "        self.W = 0.01 * np.random.randn(output_channel, input_channel, kernel_h, kernel_w)\n",
    "        self.b = np.zeros(output_channel)\n",
    "        self.stride = stride\n",
    "        self.pad = pad\n",
    "        \n",
    "        # 中間データ（backward時に使用）\n",
    "        self.x = None   \n",
    "        self.col = None\n",
    "        self.col_W = None\n",
    "        \n",
    "        # 重み・バイアスパラメータの勾配\n",
    "        self.dW = None\n",
    "        self.db = None\n",
    "\n",
    "    def forward(self, x):\n",
    "        FN, C, FH, FW = self.W.shape\n",
    "        N, C, H, W = x.shape\n",
    "        out_h = #### 問3-1 ####\n",
    "        out_w = #### 問3-2 ####\n",
    "\n",
    "        col = im2col(x, FH, FW, self.stride, self.pad)\n",
    "        col_W = #### 問3-3 ####\n",
    "\n",
    "        out = #### 問3-4 ####\n",
    "        out = out.reshape(N, out_h, out_w, -1).transpose(0, 3, 1, 2)\n",
    "\n",
    "        self.x = x\n",
    "        self.col = col\n",
    "        self.col_W = col_W\n",
    "\n",
    "        return out\n",
    "\n",
    "    def backward(self, dout):\n",
    "        FN, C, FH, FW = self.W.shape\n",
    "        dout = dout.transpose(0,2,3,1).reshape(-1, FN)\n",
    "\n",
    "        self.db = np.sum(dout, axis=0)\n",
    "        self.dW = np.dot(self.col.T, dout)\n",
    "        self.dW = self.dW.transpose(1, 0).reshape(FN, C, FH, FW)\n",
    "\n",
    "        dcol = np.dot(dout, self.col_W.T)\n",
    "        dx = col2im(dcol, self.x.shape, FH, FW, self.stride, self.pad)\n",
    "\n",
    "        return dx"
   ]
  },
  {
   "cell_type": "markdown",
   "metadata": {},
   "source": [
    "## Pooling の実装\n",
    "4. <font color=\"Red\">作成した`im2col`, `col2im`を使用し、畳み込み層 `pooling` を完成させてください。</font>"
   ]
  },
  {
   "cell_type": "code",
   "execution_count": null,
   "metadata": {},
   "outputs": [],
   "source": [
    "class Pooling:\n",
    "    def __init__(self, pool_h, pool_w, stride=1, pad=0):\n",
    "        self.pool_h = pool_h\n",
    "        self.pool_w = pool_w\n",
    "        self.stride = stride\n",
    "        self.pad = pad\n",
    "        \n",
    "        self.x = None\n",
    "        self.arg_max = None\n",
    "\n",
    "    def forward(self, x):\n",
    "        N, C, H, W = x.shape\n",
    "        out_h = #### 問4-1 ####\n",
    "        out_w = #### 問4-2 ####\n",
    "\n",
    "        col = im2col(x, self.pool_h, self.pool_w, self.stride, self.pad)\n",
    "        col = col.reshape(-1, self.pool_h*self.pool_w)\n",
    "\n",
    "        arg_max = np.argmax(col, axis=1)\n",
    "        out = #### 問4-3 ####\n",
    "        out = out.reshape(N, out_h, out_w, C).transpose(0, 3, 1, 2)\n",
    "\n",
    "        self.x = x\n",
    "        self.arg_max = arg_max\n",
    "\n",
    "        return out\n",
    "\n",
    "    def backward(self, dout):\n",
    "        dout = dout.transpose(0, 2, 3, 1)\n",
    "        \n",
    "        pool_size = self.pool_h * self.pool_w\n",
    "        dmax = np.zeros((dout.size, pool_size))\n",
    "        dmax[np.arange(self.arg_max.size), self.arg_max.flatten()] = dout.flatten()\n",
    "        dmax = dmax.reshape(dout.shape + (pool_size,)) \n",
    "        \n",
    "        dcol = dmax.reshape(dmax.shape[0] * dmax.shape[1] * dmax.shape[2], -1)\n",
    "        dx = col2im(dcol, self.x.shape, self.pool_h, self.pool_w, self.stride, self.pad)\n",
    "        \n",
    "        return dx"
   ]
  },
  {
   "cell_type": "markdown",
   "metadata": {},
   "source": [
    "## ネットワーク定義"
   ]
  },
  {
   "cell_type": "code",
   "execution_count": null,
   "metadata": {},
   "outputs": [],
   "source": [
    "class SimpleConvNet:\n",
    "    def __init__(self, input_dim=(1, 28, 28), output_size=10, weight_init_std=0.01):\n",
    " \n",
    "        # レイヤの生成\n",
    "        self.layers = OrderedDict()\n",
    "        self.layers['Conv1'] = Convolution(1,10,5,5)\n",
    "        self.layers['Relu1'] = Relu()\n",
    "        self.layers['Pool1'] = Pooling(pool_h=2, pool_w=2, stride=2)\n",
    "        self.layers['Conv2'] =Convolution(10,10,5,5)\n",
    "        self.layers['Relu2'] = Relu()\n",
    "        self.layers['Affine'] = Affine(640, 10)\n",
    "\n",
    "        self.last_layer = SoftmaxWithLoss()\n",
    "        \n",
    "        # 重みの初期化\n",
    "        self.params = {}\n",
    "        self.params['W1'] = self.layers['Conv1'].W\n",
    "        self.params['b1'] = self.layers['Conv1'].b\n",
    "        self.params['W2'] = self.layers['Conv2'].W\n",
    "        self.params['b2'] = self.layers['Conv2'].b\n",
    "        self.params['W3'] = self.layers['Affine'].W\n",
    "        self.params['b3'] = self.layers['Affine'].b\n",
    "\n",
    "\n",
    "    def forward(self, x):\n",
    "        for layer in self.layers.values():\n",
    "            x = layer.forward(x)\n",
    "\n",
    "        return x\n",
    "\n",
    "    def loss(self, x, t):\n",
    "        \"\"\"損失関数を求める\n",
    "        引数のxは入力データ、tは教師ラベル\n",
    "        \"\"\"\n",
    "        y = self.forward(x)\n",
    "        return self.last_layer.forward(y, t)\n",
    "\n",
    "    def backward(self, x, t):\n",
    "        \"\"\"勾配を求める（誤差逆伝搬法）\n",
    "        Parameters\n",
    "        ----------\n",
    "        x : 入力データ\n",
    "        t : 教師ラベル\n",
    "        Returns\n",
    "        -------\n",
    "        各層の勾配を持ったディクショナリ変数\n",
    "            grads['W1']、grads['W2']、...は各層の重み\n",
    "            grads['b1']、grads['b2']、...は各層のバイアス\n",
    "        \"\"\"\n",
    "        # forward\n",
    "        self.loss(x, t)\n",
    "\n",
    "        # backward\n",
    "        dout = 1\n",
    "        dout = self.last_layer.backward(dout)\n",
    "\n",
    "        layers = list(self.layers.values())\n",
    "        layers.reverse()\n",
    "        for layer in layers:\n",
    "            dout = layer.backward(dout)\n",
    "\n",
    "        # 設定\n",
    "        grads = {}\n",
    "        grads['W1'], grads['b1'] = self.layers['Conv1'].dW, self.layers['Conv1'].db\n",
    "        grads['W2'], grads['b2'] = self.layers['Conv2'].dW, self.layers['Conv2'].db\n",
    "        grads['W3'], grads['b3'] = self.layers['Affine'].dW, self.layers['Affine'].db\n",
    "\n",
    "        return grads"
   ]
  },
  {
   "cell_type": "markdown",
   "metadata": {},
   "source": [
    "## 学習\n",
    "5エポックで精度が95%以上になっていれば学習成功です。\n",
    "\n",
    "convolution や pooling はGPUでは高速ですが、CPUで実行した場合は非常に実行時間がかかるため、学習セルの実行には時間を要します。10~15分ほど要しますので、ご注意ください。"
   ]
  },
  {
   "cell_type": "code",
   "execution_count": null,
   "metadata": {
    "scrolled": true
   },
   "outputs": [],
   "source": [
    "network = SimpleConvNet(input_dim=(1,28,28),  output_size=10, weight_init_std=0.01)"
   ]
  },
  {
   "cell_type": "code",
   "execution_count": null,
   "metadata": {},
   "outputs": [],
   "source": [
    "class SGD:\n",
    "    def __init__(self, lr=0.01):\n",
    "        self.lr = lr\n",
    "        \n",
    "    def update(self, params, grads):\n",
    "        for key in params.keys():\n",
    "            params[key] -= self.lr * grads[key] "
   ]
  },
  {
   "cell_type": "code",
   "execution_count": null,
   "metadata": {},
   "outputs": [],
   "source": [
    "acc_list = []\n",
    "sgd = SGD(lr = 0.01)\n",
    "batch_size = 256"
   ]
  },
  {
   "cell_type": "code",
   "execution_count": null,
   "metadata": {
    "scrolled": true
   },
   "outputs": [],
   "source": [
    "for epoch in range(5):\n",
    "    perm = np.random.permutation(len(x_train))\n",
    "    for idx in np.arange(0, len(perm), batch_size):\n",
    "        x = x_train[perm[idx:idx+batch_size]]\n",
    "        t =  t_train[perm[idx:idx+batch_size]]\n",
    "\n",
    "        grads = network.backward(x, t)\n",
    "        sgd.update(network.params,grads)\n",
    "    y_test = network.forward(x_test)\n",
    "    acc_list.append((y_test.argmax(axis=1) == t_test.argmax(axis=1)).mean())\n",
    "\n",
    "    print(f'EPOCH {epoch + 1} | ACCURACY {acc_list[-1]:.2%}')"
   ]
  },
  {
   "cell_type": "code",
   "execution_count": null,
   "metadata": {},
   "outputs": [],
   "source": []
  }
 ],
 "metadata": {
  "kernelspec": {
   "display_name": "Python 3",
   "language": "python",
   "name": "python3"
  },
  "language_info": {
   "codemirror_mode": {
    "name": "ipython",
    "version": 3
   },
   "file_extension": ".py",
   "mimetype": "text/x-python",
   "name": "python",
   "nbconvert_exporter": "python",
   "pygments_lexer": "ipython3",
   "version": "3.6.8"
  }
 },
 "nbformat": 4,
 "nbformat_minor": 2
}
